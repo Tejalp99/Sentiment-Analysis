{
 "cells": [
  {
   "cell_type": "code",
   "execution_count": 2,
   "id": "61ccf09a",
   "metadata": {},
   "outputs": [],
   "source": [
    "import pandas as pd\n",
    "import nltk\n",
    "from IPython.display import display\n",
    "pd.set_option('display.max_columns', None)"
   ]
  },
  {
   "cell_type": "markdown",
   "id": "3848a679",
   "metadata": {},
   "source": [
    "## Step 1: Loading in the small_corpus .csv file created in the \"creating_dataset\" milestone.\n"
   ]
  },
  {
   "cell_type": "code",
   "execution_count": 4,
   "id": "5ef57ad9",
   "metadata": {},
   "outputs": [],
   "source": [
    "reviews = pd.read_csv(\"/Users/tejalpatel/Desktop/Amazon_Reviews/small_corpus.csv\")\n"
   ]
  },
  {
   "cell_type": "code",
   "execution_count": 5,
   "id": "bf465c56",
   "metadata": {},
   "outputs": [
    {
     "data": {
      "text/html": [
       "<div>\n",
       "<style scoped>\n",
       "    .dataframe tbody tr th:only-of-type {\n",
       "        vertical-align: middle;\n",
       "    }\n",
       "\n",
       "    .dataframe tbody tr th {\n",
       "        vertical-align: top;\n",
       "    }\n",
       "\n",
       "    .dataframe thead th {\n",
       "        text-align: right;\n",
       "    }\n",
       "</style>\n",
       "<table border=\"1\" class=\"dataframe\">\n",
       "  <thead>\n",
       "    <tr style=\"text-align: right;\">\n",
       "      <th></th>\n",
       "      <th>overall</th>\n",
       "      <th>verified</th>\n",
       "      <th>reviewTime</th>\n",
       "      <th>reviewerID</th>\n",
       "      <th>asin</th>\n",
       "      <th>reviewerName</th>\n",
       "      <th>reviewText</th>\n",
       "      <th>summary</th>\n",
       "      <th>unixReviewTime</th>\n",
       "      <th>vote</th>\n",
       "      <th>style</th>\n",
       "      <th>image</th>\n",
       "    </tr>\n",
       "  </thead>\n",
       "  <tbody>\n",
       "    <tr>\n",
       "      <th>0</th>\n",
       "      <td>1.0</td>\n",
       "      <td>False</td>\n",
       "      <td>12 19, 2012</td>\n",
       "      <td>A1GBT4UN2RW7XY</td>\n",
       "      <td>B0056XXKIK</td>\n",
       "      <td>For Real</td>\n",
       "      <td>This game truly, genuinely sucks! At first it ...</td>\n",
       "      <td>Terrible, terrible game!</td>\n",
       "      <td>1355875200</td>\n",
       "      <td>NaN</td>\n",
       "      <td>{'Format:': ' Video Game'}</td>\n",
       "      <td>NaN</td>\n",
       "    </tr>\n",
       "    <tr>\n",
       "      <th>1</th>\n",
       "      <td>1.0</td>\n",
       "      <td>False</td>\n",
       "      <td>06 24, 2011</td>\n",
       "      <td>A2F4DHHHPRSAM6</td>\n",
       "      <td>B000OCXK6A</td>\n",
       "      <td>ashermanh</td>\n",
       "      <td>This game is horrible, and I can't believe tha...</td>\n",
       "      <td>Why are people giving this 5 stars?</td>\n",
       "      <td>1308873600</td>\n",
       "      <td>2</td>\n",
       "      <td>{'Platform:': ' Xbox 360'}</td>\n",
       "      <td>NaN</td>\n",
       "    </tr>\n",
       "    <tr>\n",
       "      <th>2</th>\n",
       "      <td>1.0</td>\n",
       "      <td>False</td>\n",
       "      <td>10 23, 2014</td>\n",
       "      <td>A2338FMR8BL2ZD</td>\n",
       "      <td>B00KTNSLX6</td>\n",
       "      <td>Gris</td>\n",
       "      <td>Ubisoft is the worst game development company ...</td>\n",
       "      <td>More gutter filth delivered from Ubisoft.</td>\n",
       "      <td>1414022400</td>\n",
       "      <td>7</td>\n",
       "      <td>{'Format:': ' Video Game'}</td>\n",
       "      <td>NaN</td>\n",
       "    </tr>\n",
       "    <tr>\n",
       "      <th>3</th>\n",
       "      <td>1.0</td>\n",
       "      <td>False</td>\n",
       "      <td>07 13, 2013</td>\n",
       "      <td>A2W7LKMON1FST0</td>\n",
       "      <td>B0095D1CM8</td>\n",
       "      <td>David Doria</td>\n",
       "      <td>Basically if you are going to buy a gaming mou...</td>\n",
       "      <td>Wears out too quickly and too quirky to be a g...</td>\n",
       "      <td>1373673600</td>\n",
       "      <td>NaN</td>\n",
       "      <td>{'Color:': ' Matte Black'}</td>\n",
       "      <td>NaN</td>\n",
       "    </tr>\n",
       "    <tr>\n",
       "      <th>4</th>\n",
       "      <td>1.0</td>\n",
       "      <td>False</td>\n",
       "      <td>07 12, 2008</td>\n",
       "      <td>A8PWAF3C7T5AT</td>\n",
       "      <td>B000FO4KO8</td>\n",
       "      <td>Angel Fountains</td>\n",
       "      <td>This was given to me as a gift last December 2...</td>\n",
       "      <td>I am seething with anger.</td>\n",
       "      <td>1215820800</td>\n",
       "      <td>5</td>\n",
       "      <td>{'Color:': ' Cobalt/Black'}</td>\n",
       "      <td>NaN</td>\n",
       "    </tr>\n",
       "  </tbody>\n",
       "</table>\n",
       "</div>"
      ],
      "text/plain": [
       "   overall  verified   reviewTime      reviewerID        asin  \\\n",
       "0      1.0     False  12 19, 2012  A1GBT4UN2RW7XY  B0056XXKIK   \n",
       "1      1.0     False  06 24, 2011  A2F4DHHHPRSAM6  B000OCXK6A   \n",
       "2      1.0     False  10 23, 2014  A2338FMR8BL2ZD  B00KTNSLX6   \n",
       "3      1.0     False  07 13, 2013  A2W7LKMON1FST0  B0095D1CM8   \n",
       "4      1.0     False  07 12, 2008   A8PWAF3C7T5AT  B000FO4KO8   \n",
       "\n",
       "      reviewerName                                         reviewText  \\\n",
       "0         For Real  This game truly, genuinely sucks! At first it ...   \n",
       "1        ashermanh  This game is horrible, and I can't believe tha...   \n",
       "2             Gris  Ubisoft is the worst game development company ...   \n",
       "3      David Doria  Basically if you are going to buy a gaming mou...   \n",
       "4  Angel Fountains  This was given to me as a gift last December 2...   \n",
       "\n",
       "                                             summary  unixReviewTime vote  \\\n",
       "0                           Terrible, terrible game!      1355875200  NaN   \n",
       "1                Why are people giving this 5 stars?      1308873600    2   \n",
       "2          More gutter filth delivered from Ubisoft.      1414022400    7   \n",
       "3  Wears out too quickly and too quirky to be a g...      1373673600  NaN   \n",
       "4                          I am seething with anger.      1215820800    5   \n",
       "\n",
       "                         style image  \n",
       "0   {'Format:': ' Video Game'}   NaN  \n",
       "1   {'Platform:': ' Xbox 360'}   NaN  \n",
       "2   {'Format:': ' Video Game'}   NaN  \n",
       "3   {'Color:': ' Matte Black'}   NaN  \n",
       "4  {'Color:': ' Cobalt/Black'}   NaN  "
      ]
     },
     "execution_count": 5,
     "metadata": {},
     "output_type": "execute_result"
    }
   ],
   "source": [
    "reviews.head()\n"
   ]
  },
  {
   "cell_type": "markdown",
   "id": "feef88ac",
   "metadata": {},
   "source": [
    "## Step 2: Tokenizing the sentences and words of the reviews"
   ]
  },
  {
   "cell_type": "markdown",
   "id": "ba4298d4",
   "metadata": {},
   "source": [
    "Here, We're going to test different versions of word tokenizer on reviews. We'll then decide which tokenizer might be better to use."
   ]
  },
  {
   "cell_type": "markdown",
   "id": "992ebf83",
   "metadata": {},
   "source": [
    "### Treebank Word Tokenizer"
   ]
  },
  {
   "cell_type": "code",
   "execution_count": 6,
   "id": "8adf84c9",
   "metadata": {},
   "outputs": [],
   "source": [
    "from nltk.tokenize import TreebankWordTokenizer\n",
    "from string import punctuation\n",
    "import string"
   ]
  },
  {
   "cell_type": "code",
   "execution_count": 7,
   "id": "814a68eb",
   "metadata": {},
   "outputs": [],
   "source": [
    "tb_tokenizer = TreebankWordTokenizer()\n"
   ]
  },
  {
   "cell_type": "code",
   "execution_count": 8,
   "id": "0afa516f",
   "metadata": {},
   "outputs": [],
   "source": [
    "reviews[\"rev_text_lower\"] = reviews['reviewText'].apply(lambda rev: str(rev)\\\n",
    "                                                        .translate(str.maketrans('', '', punctuation))\\\n",
    "                                                        .replace(\"<br />\", \" \")\\\n",
    "                                                        .lower())\n"
   ]
  },
  {
   "cell_type": "code",
   "execution_count": 13,
   "id": "608b8a15",
   "metadata": {},
   "outputs": [
    {
     "data": {
      "text/html": [
       "<div>\n",
       "<style scoped>\n",
       "    .dataframe tbody tr th:only-of-type {\n",
       "        vertical-align: middle;\n",
       "    }\n",
       "\n",
       "    .dataframe tbody tr th {\n",
       "        vertical-align: top;\n",
       "    }\n",
       "\n",
       "    .dataframe thead th {\n",
       "        text-align: right;\n",
       "    }\n",
       "</style>\n",
       "<table border=\"1\" class=\"dataframe\">\n",
       "  <thead>\n",
       "    <tr style=\"text-align: right;\">\n",
       "      <th></th>\n",
       "      <th>reviewText</th>\n",
       "      <th>rev_text_lower</th>\n",
       "    </tr>\n",
       "  </thead>\n",
       "  <tbody>\n",
       "    <tr>\n",
       "      <th>2005</th>\n",
       "      <td>I bought these to use on my xbox 360... Game a...</td>\n",
       "      <td>i bought these to use on my xbox 360 game audi...</td>\n",
       "    </tr>\n",
       "    <tr>\n",
       "      <th>2830</th>\n",
       "      <td>pretty good game, a little on the easy side th...</td>\n",
       "      <td>pretty good game a little on the easy side tho...</td>\n",
       "    </tr>\n",
       "  </tbody>\n",
       "</table>\n",
       "</div>"
      ],
      "text/plain": [
       "                                             reviewText  \\\n",
       "2005  I bought these to use on my xbox 360... Game a...   \n",
       "2830  pretty good game, a little on the easy side th...   \n",
       "\n",
       "                                         rev_text_lower  \n",
       "2005  i bought these to use on my xbox 360 game audi...  \n",
       "2830  pretty good game a little on the easy side tho...  "
      ]
     },
     "execution_count": 13,
     "metadata": {},
     "output_type": "execute_result"
    }
   ],
   "source": [
    "reviews[['reviewText','rev_text_lower']].sample(2)\n"
   ]
  },
  {
   "cell_type": "code",
   "execution_count": 14,
   "id": "fbdb4415",
   "metadata": {},
   "outputs": [],
   "source": [
    "reviews[\"tb_tokens\"] = reviews['rev_text_lower'].apply(lambda rev: tb_tokenizer.tokenize(str(rev)))\n"
   ]
  },
  {
   "cell_type": "code",
   "execution_count": 15,
   "id": "89267d6b",
   "metadata": {},
   "outputs": [],
   "source": [
    "pd.set_option('display.max_colwidth', None)\n"
   ]
  },
  {
   "cell_type": "code",
   "execution_count": 18,
   "id": "103b7d86",
   "metadata": {},
   "outputs": [
    {
     "data": {
      "text/html": [
       "<div>\n",
       "<style scoped>\n",
       "    .dataframe tbody tr th:only-of-type {\n",
       "        vertical-align: middle;\n",
       "    }\n",
       "\n",
       "    .dataframe tbody tr th {\n",
       "        vertical-align: top;\n",
       "    }\n",
       "\n",
       "    .dataframe thead th {\n",
       "        text-align: right;\n",
       "    }\n",
       "</style>\n",
       "<table border=\"1\" class=\"dataframe\">\n",
       "  <thead>\n",
       "    <tr style=\"text-align: right;\">\n",
       "      <th></th>\n",
       "      <th>reviewText</th>\n",
       "      <th>tb_tokens</th>\n",
       "    </tr>\n",
       "  </thead>\n",
       "  <tbody>\n",
       "    <tr>\n",
       "      <th>185</th>\n",
       "      <td>Microsoft has a very antagonistic relationship with Square Enix. This has led to my inability to activate the new game on my current Xbox Live user account. This is not the fault of Square Enix or Microsoft. However, because of their differences I am completely unable to rectify my situation. Details about their difficulties are numerous and complicated. Suffice it to say, if you're not 100% perfect with your handling of your account information you will be purchasing a $40.00 + S/H brick and there is no recourse.</td>\n",
       "      <td>[microsoft, has, a, very, antagonistic, relationship, with, square, enix, this, has, led, to, my, inability, to, activate, the, new, game, on, my, current, xbox, live, user, account, this, is, not, the, fault, of, square, enix, or, microsoft, however, because, of, their, differences, i, am, completely, unable, to, rectify, my, situation, details, about, their, difficulties, are, numerous, and, complicated, suffice, it, to, say, if, youre, not, 100, perfect, with, your, handling, of, your, account, information, you, will, be, purchasing, a, 4000, sh, brick, and, there, is, no, recourse]</td>\n",
       "    </tr>\n",
       "    <tr>\n",
       "      <th>2258</th>\n",
       "      <td>This game is to short, it is to easy to finish. There is not enough to keep you interested once you've finished the actual game. There are gimicy  little things added but they only keep you interested for about half and  hour. More levels needed.</td>\n",
       "      <td>[this, game, is, to, short, it, is, to, easy, to, finish, there, is, not, enough, to, keep, you, interested, once, youve, finished, the, actual, game, there, are, gimicy, little, things, added, but, they, only, keep, you, interested, for, about, half, and, hour, more, levels, needed]</td>\n",
       "    </tr>\n",
       "    <tr>\n",
       "      <th>1985</th>\n",
       "      <td>this is the perfect example of a game that's only rated well because of the graphics.  while some games have awesome graphics and gameplay and deserve praise (like half life 2 and far cry), this game doesn't.\\n\\nit starts off really cool.  you're a cherokee boy in a bar talking to your grandfather.  you don't believe in his native american traditional ways and you want to get off the reservation.  then something really crazy happens, transporting you to the FPS game.. and it's all downhill from there.  the shooting is just nothing new, nothing that hasn't been done better before.  one example of a game that really brought fresh and exciting gameplay to the world is the call of duty series, and they did it with a well-worn genre (world war 2 games) and brought amazing life to weapons that are over 50 years old and had been featured in many games before!!!  well, it seems that prey has a great story here, and they can invent any new weapon that they want, but the gameplay is just boring... i know the real reason this game is rated so high is because of 2 things:  it's NEW and the GRAPHICS.  well i've seen better graphics, and new does not equal better.  even if i'm the only person on earth who thinks so, i think this game is nothing special or particularly fun.</td>\n",
       "      <td>[this, is, the, perfect, example, of, a, game, thats, only, rated, well, because, of, the, graphics, while, some, games, have, awesome, graphics, and, gameplay, and, deserve, praise, like, half, life, 2, and, far, cry, this, game, doesnt, it, starts, off, really, cool, youre, a, cherokee, boy, in, a, bar, talking, to, your, grandfather, you, dont, believe, in, his, native, american, traditional, ways, and, you, want, to, get, off, the, reservation, then, something, really, crazy, happens, transporting, you, to, the, fps, game, and, its, all, downhill, from, there, the, shooting, is, just, nothing, new, nothing, that, hasnt, been, done, better, before, ...]</td>\n",
       "    </tr>\n",
       "  </tbody>\n",
       "</table>\n",
       "</div>"
      ],
      "text/plain": [
       "                                                                                                                                                                                                                                                                                                                                                                                                                                                                                                                                                                                                                                                                                                                                                                                                                                                                                                                                                                                                                                                                                                                                                                                                                                                                                                                           reviewText  \\\n",
       "185                                                                                                                                                                                                                                                                                                                                                                                                                                                                                                                                                                                                                                                                                                                                                                                           Microsoft has a very antagonistic relationship with Square Enix. This has led to my inability to activate the new game on my current Xbox Live user account. This is not the fault of Square Enix or Microsoft. However, because of their differences I am completely unable to rectify my situation. Details about their difficulties are numerous and complicated. Suffice it to say, if you're not 100% perfect with your handling of your account information you will be purchasing a $40.00 + S/H brick and there is no recourse.   \n",
       "2258                                                                                                                                                                                                                                                                                                                                                                                                                                                                                                                                                                                                                                                                                                                                                                                                                                                                                                                                                                                                                                                                           This game is to short, it is to easy to finish. There is not enough to keep you interested once you've finished the actual game. There are gimicy  little things added but they only keep you interested for about half and  hour. More levels needed.   \n",
       "1985  this is the perfect example of a game that's only rated well because of the graphics.  while some games have awesome graphics and gameplay and deserve praise (like half life 2 and far cry), this game doesn't.\\n\\nit starts off really cool.  you're a cherokee boy in a bar talking to your grandfather.  you don't believe in his native american traditional ways and you want to get off the reservation.  then something really crazy happens, transporting you to the FPS game.. and it's all downhill from there.  the shooting is just nothing new, nothing that hasn't been done better before.  one example of a game that really brought fresh and exciting gameplay to the world is the call of duty series, and they did it with a well-worn genre (world war 2 games) and brought amazing life to weapons that are over 50 years old and had been featured in many games before!!!  well, it seems that prey has a great story here, and they can invent any new weapon that they want, but the gameplay is just boring... i know the real reason this game is rated so high is because of 2 things:  it's NEW and the GRAPHICS.  well i've seen better graphics, and new does not equal better.  even if i'm the only person on earth who thinks so, i think this game is nothing special or particularly fun.   \n",
       "\n",
       "                                                                                                                                                                                                                                                                                                                                                                                                                                                                                                                                                                                                                                                                                     tb_tokens  \n",
       "185                                                                           [microsoft, has, a, very, antagonistic, relationship, with, square, enix, this, has, led, to, my, inability, to, activate, the, new, game, on, my, current, xbox, live, user, account, this, is, not, the, fault, of, square, enix, or, microsoft, however, because, of, their, differences, i, am, completely, unable, to, rectify, my, situation, details, about, their, difficulties, are, numerous, and, complicated, suffice, it, to, say, if, youre, not, 100, perfect, with, your, handling, of, your, account, information, you, will, be, purchasing, a, 4000, sh, brick, and, there, is, no, recourse]  \n",
       "2258                                                                                                                                                                                                                                                                                                                                                                                              [this, game, is, to, short, it, is, to, easy, to, finish, there, is, not, enough, to, keep, you, interested, once, youve, finished, the, actual, game, there, are, gimicy, little, things, added, but, they, only, keep, you, interested, for, about, half, and, hour, more, levels, needed]  \n",
       "1985  [this, is, the, perfect, example, of, a, game, thats, only, rated, well, because, of, the, graphics, while, some, games, have, awesome, graphics, and, gameplay, and, deserve, praise, like, half, life, 2, and, far, cry, this, game, doesnt, it, starts, off, really, cool, youre, a, cherokee, boy, in, a, bar, talking, to, your, grandfather, you, dont, believe, in, his, native, american, traditional, ways, and, you, want, to, get, off, the, reservation, then, something, really, crazy, happens, transporting, you, to, the, fps, game, and, its, all, downhill, from, there, the, shooting, is, just, nothing, new, nothing, that, hasnt, been, done, better, before, ...]  "
      ]
     },
     "execution_count": 18,
     "metadata": {},
     "output_type": "execute_result"
    }
   ],
   "source": [
    "reviews[['reviewText','tb_tokens']].sample(3)\n"
   ]
  },
  {
   "cell_type": "markdown",
   "id": "1258317a",
   "metadata": {},
   "source": [
    "## Casual Tokenizer"
   ]
  },
  {
   "cell_type": "code",
   "execution_count": 19,
   "id": "5c4024cc",
   "metadata": {},
   "outputs": [],
   "source": [
    "from nltk.tokenize.casual import casual_tokenize\n"
   ]
  },
  {
   "cell_type": "code",
   "execution_count": 20,
   "id": "0d8fc50f",
   "metadata": {},
   "outputs": [],
   "source": [
    "reviews['casual_tokens'] = reviews['rev_text_lower'].apply(lambda rev: casual_tokenize(str(rev)))\n"
   ]
  },
  {
   "cell_type": "code",
   "execution_count": 21,
   "id": "12022c42",
   "metadata": {},
   "outputs": [
    {
     "data": {
      "text/html": [
       "<div>\n",
       "<style scoped>\n",
       "    .dataframe tbody tr th:only-of-type {\n",
       "        vertical-align: middle;\n",
       "    }\n",
       "\n",
       "    .dataframe tbody tr th {\n",
       "        vertical-align: top;\n",
       "    }\n",
       "\n",
       "    .dataframe thead th {\n",
       "        text-align: right;\n",
       "    }\n",
       "</style>\n",
       "<table border=\"1\" class=\"dataframe\">\n",
       "  <thead>\n",
       "    <tr style=\"text-align: right;\">\n",
       "      <th></th>\n",
       "      <th>reviewText</th>\n",
       "      <th>casual_tokens</th>\n",
       "      <th>tb_tokens</th>\n",
       "    </tr>\n",
       "  </thead>\n",
       "  <tbody>\n",
       "    <tr>\n",
       "      <th>2632</th>\n",
       "      <td>Let me preface this review by saying that I am not a huge fan of metal music nor of Jack Black. I listened to some Ozzy when I was growing up, and I think Jack Black is OK, but those weren't the reasons I bought this game. In fact, the first time I heard about this game, I had zero interest in it. However, playing the demo, reading some interviews with Tim Schafer, and seeing some of the art behind this game completely changed my mind.\\n\\nThe Pros:\\n\\nThe art in this game is fantastic - the world, the character design, the \"legends\" you uncover, even the user interface - are all a joy to encounter. I never got tired of finding a new viewpoint and watching the camera pan across some fantastic heavy metal landmark. And the various heavy metal demons they've thought up are brilliant.\\n\\nThe story is top notch. The plot of the main quest, and especially the \"legend\" back story are really well done.\\n\\nThe voice work is truly excellent. It really brings the characters to life.\\n\\nThe humor - maybe I have the mind of a 13 year old, but the game made me laugh out loud several times and kept me with a constant mental grin.\\n\\nThe music - even though I'm not a huge fan of the genre, it really fits the game world.\\n\\nThe world continues - once you beat the game you can keep exploring or finish side missions you haven't yet completed. And there seems to be a bridge to nowhere - maybe a possible DLC single player continuation? I sure hope so.\\n\\nThe Cons:\\n\\nThe single player campaign is short. I don't think you are really enjoying it if you finish it in 6 hours like some are claiming, but I had about 3 really in-depth sittings before I finished it.\\n\\nThe time you spend on the ground with your axe is even shorter. I enjoyed the first couple missions the most, where the game had you dungeon crawling a bit and defeating a boss enemy at the end. Gameplay shifts quickly to the troop directed stage battle mechanic, which I wasn't really expecting.\\n\\nThe side missions are repetitive, and actually not all that numerous. I finished them all shortly after beating the game. Make sure you seek out the uniquely named side missions though - some of them are real gems.\\n\\nOther Thoughts:\\n\\nYou will be doing a lot of driving around. Several of the missions involve racing your car or driving around and blasting things. I actually enjoyed this part of the game, but it does seem like you are constantly in the Deuce.\\n\\nThe world is kind of small - it's not as expansive as say Fallout 3 or Oblivion. But I think it suits the game pretty well.\\n\\nYou can shock just about any four legged creature and ride it - I don't think I really realized this until after I beat the game. I don't think it will particularly help you much during the game, but it's kinda fun =D\\n\\nAfter completing the game and exploring what I thought was pretty thoroughly, I've only completed about 40% Of the game according to my trophy score. I only discovered a little more than half of the bound serpents, and I find myself lacking the motivation to \"complete\" the scavenger hunting and the rest of the single player trophies. (How in the world can there possibly be that many things still left to find??)\\n\\nI'm not a huge fan of the RTS style stage battles (I know Tim Schafer claims it is NOT an RTS, but..) I haven't yet played a multiplayer stage battle and I'm not real enthusiastic about doing so, and that is a BIG part of the replay value. You'll probably enjoy the game a lot more if you like the stage battles, but I'm not sure what type of player they are aimed at. For hardcore RTS players I'm sure it's really simplistic, and for those of us who just prefer to hack and slash, it starts to become a chore. You may enjoy them, but it didn't float my boat.\\n\\nOverall this is still one of the best games I've played all year.</td>\n",
       "      <td>[let, me, preface, this, review, by, saying, that, i, am, not, a, huge, fan, of, metal, music, nor, of, jack, black, i, listened, to, some, ozzy, when, i, was, growing, up, and, i, think, jack, black, is, ok, but, those, werent, the, reasons, i, bought, this, game, in, fact, the, first, time, i, heard, about, this, game, i, had, zero, interest, in, it, however, playing, the, demo, reading, some, interviews, with, tim, schafer, and, seeing, some, of, the, art, behind, this, game, completely, changed, my, mind, the, pros, the, art, in, this, game, is, fantastic, the, world, the, character, design, ...]</td>\n",
       "      <td>[let, me, preface, this, review, by, saying, that, i, am, not, a, huge, fan, of, metal, music, nor, of, jack, black, i, listened, to, some, ozzy, when, i, was, growing, up, and, i, think, jack, black, is, ok, but, those, werent, the, reasons, i, bought, this, game, in, fact, the, first, time, i, heard, about, this, game, i, had, zero, interest, in, it, however, playing, the, demo, reading, some, interviews, with, tim, schafer, and, seeing, some, of, the, art, behind, this, game, completely, changed, my, mind, the, pros, the, art, in, this, game, is, fantastic, the, world, the, character, design, ...]</td>\n",
       "    </tr>\n",
       "    <tr>\n",
       "      <th>1895</th>\n",
       "      <td>*CHESS MASTER - XBOX*\\n\\nLet me start by saying my family and I love chess. I've been patiently waiting for a chess game on the XBOX since the consoles release. Surely, Chess\"Master\" will be great, I mean you can't go wrong with chess right? WRONG! I suppose this game is fun if you're really into playing chess online or by yourself at home. However, I don't have an online account and if you want to play with a friend, at home on the same console, you'll be passing the controller back and forth. So much so, you'll wonder what the designers were thinking. Trust me, that gets old very quickly.\\n\\nI specifically purchased this game to sit down and play chess with my wife and kids. Can you imagine how upset we all were when we found out we had to pass the controller back and forth to each other for each move? Why not a 2 player/2 controller system? To me it just ruins the game! I don't have online play and playing the computer gets old...fast.\\n\\nIN FINAL: I'd like to say I love this game, I mean the graphics are good, the different chess sets are neat, the sound if fine, it's just no fun to have to reach over after every move and hand the controller to my opponent! WHAT WERE THEY THINKING?</td>\n",
       "      <td>[chess, master, xbox, let, me, start, by, saying, my, family, and, i, love, chess, ive, been, patiently, waiting, for, a, chess, game, on, the, xbox, since, the, consoles, release, surely, chessmaster, will, be, great, i, mean, you, cant, go, wrong, with, chess, right, wrong, i, suppose, this, game, is, fun, if, youre, really, into, playing, chess, online, or, by, yourself, at, home, however, i, dont, have, an, online, account, and, if, you, want, to, play, with, a, friend, at, home, on, the, same, console, youll, be, passing, the, controller, back, and, forth, so, much, so, youll, wonder, what, the, designers, ...]</td>\n",
       "      <td>[chess, master, xbox, let, me, start, by, saying, my, family, and, i, love, chess, ive, been, patiently, waiting, for, a, chess, game, on, the, xbox, since, the, consoles, release, surely, chessmaster, will, be, great, i, mean, you, cant, go, wrong, with, chess, right, wrong, i, suppose, this, game, is, fun, if, youre, really, into, playing, chess, online, or, by, yourself, at, home, however, i, dont, have, an, online, account, and, if, you, want, to, play, with, a, friend, at, home, on, the, same, console, youll, be, passing, the, controller, back, and, forth, so, much, so, youll, wonder, what, the, designers, ...]</td>\n",
       "    </tr>\n",
       "    <tr>\n",
       "      <th>1276</th>\n",
       "      <td>As other reviewers on here have stated,this game is exactly like NBA 2K14. All of the rosters have not even been updated. Lebron James is on the Cavs,but why in the hell is Kevin Love still on the Wolves? :/ Even the gameplay is the same as 2k14,if not worse. It's like 2K sports is MAKING US last gen console owners,purchase a PS4 or Xbox One,if we are not satisfied with this watered down overpriced pile of sh--! Overall,this game is a total waste of time and money. If you are wanting this game to go along with your other 2K titles,then I would recommend just waiting for the price of this lackluster insult to drop. I am sure that this game will drop in price very soon,so you should pick it up then,if you want it that bad. But whatever you decide to do,I would STRONGLY encourage you to NOT spend 60 bucks on this,cause it is NOT WORTH IT!</td>\n",
       "      <td>[as, other, reviewers, on, here, have, statedthis, game, is, exactly, like, nba, 2k14, all, of, the, rosters, have, not, even, been, updated, lebron, james, is, on, the, cavsbut, why, in, the, hell, is, kevin, love, still, on, the, wolves, even, the, gameplay, is, the, same, as, 2k14if, not, worse, its, like, 2k, sports, is, making, us, last, gen, console, ownerspurchase, a, ps4, or, xbox, oneif, we, are, not, satisfied, with, this, watered, down, overpriced, pile, of, sh, overallthis, game, is, a, total, waste, of, time, and, money, if, you, are, wanting, this, game, to, go, along, with, your, other, 2k, ...]</td>\n",
       "      <td>[as, other, reviewers, on, here, have, statedthis, game, is, exactly, like, nba, 2k14, all, of, the, rosters, have, not, even, been, updated, lebron, james, is, on, the, cavsbut, why, in, the, hell, is, kevin, love, still, on, the, wolves, even, the, gameplay, is, the, same, as, 2k14if, not, worse, its, like, 2k, sports, is, making, us, last, gen, console, ownerspurchase, a, ps4, or, xbox, oneif, we, are, not, satisfied, with, this, watered, down, overpriced, pile, of, sh, overallthis, game, is, a, total, waste, of, time, and, money, if, you, are, wanting, this, game, to, go, along, with, your, other, 2k, ...]</td>\n",
       "    </tr>\n",
       "  </tbody>\n",
       "</table>\n",
       "</div>"
      ],
      "text/plain": [
       "                                                                                                                                                                                                                                                                                                                                                                                                                                                                                                                                                                                                                                                                                                                                                                                                                                                                                                                                                                                                                                                                                                                                                                                                                                                                                                                                                                                                                                                                                                                                                                                                                                                                                                                                                                                                                                                                                                                                                                                                                                                                                                                                                                                                                                                                                                                                                                                                                                                                                                                                                                                                                                                                                                                                                                                                                                                                                                                                                                                                                                                                                                                                                                                                                                                                                                                                                                                                                                                                                                                                                                                                                                                                                                                                                                                                                                                                                                                                                                                  reviewText  \\\n",
       "2632  Let me preface this review by saying that I am not a huge fan of metal music nor of Jack Black. I listened to some Ozzy when I was growing up, and I think Jack Black is OK, but those weren't the reasons I bought this game. In fact, the first time I heard about this game, I had zero interest in it. However, playing the demo, reading some interviews with Tim Schafer, and seeing some of the art behind this game completely changed my mind.\\n\\nThe Pros:\\n\\nThe art in this game is fantastic - the world, the character design, the \"legends\" you uncover, even the user interface - are all a joy to encounter. I never got tired of finding a new viewpoint and watching the camera pan across some fantastic heavy metal landmark. And the various heavy metal demons they've thought up are brilliant.\\n\\nThe story is top notch. The plot of the main quest, and especially the \"legend\" back story are really well done.\\n\\nThe voice work is truly excellent. It really brings the characters to life.\\n\\nThe humor - maybe I have the mind of a 13 year old, but the game made me laugh out loud several times and kept me with a constant mental grin.\\n\\nThe music - even though I'm not a huge fan of the genre, it really fits the game world.\\n\\nThe world continues - once you beat the game you can keep exploring or finish side missions you haven't yet completed. And there seems to be a bridge to nowhere - maybe a possible DLC single player continuation? I sure hope so.\\n\\nThe Cons:\\n\\nThe single player campaign is short. I don't think you are really enjoying it if you finish it in 6 hours like some are claiming, but I had about 3 really in-depth sittings before I finished it.\\n\\nThe time you spend on the ground with your axe is even shorter. I enjoyed the first couple missions the most, where the game had you dungeon crawling a bit and defeating a boss enemy at the end. Gameplay shifts quickly to the troop directed stage battle mechanic, which I wasn't really expecting.\\n\\nThe side missions are repetitive, and actually not all that numerous. I finished them all shortly after beating the game. Make sure you seek out the uniquely named side missions though - some of them are real gems.\\n\\nOther Thoughts:\\n\\nYou will be doing a lot of driving around. Several of the missions involve racing your car or driving around and blasting things. I actually enjoyed this part of the game, but it does seem like you are constantly in the Deuce.\\n\\nThe world is kind of small - it's not as expansive as say Fallout 3 or Oblivion. But I think it suits the game pretty well.\\n\\nYou can shock just about any four legged creature and ride it - I don't think I really realized this until after I beat the game. I don't think it will particularly help you much during the game, but it's kinda fun =D\\n\\nAfter completing the game and exploring what I thought was pretty thoroughly, I've only completed about 40% Of the game according to my trophy score. I only discovered a little more than half of the bound serpents, and I find myself lacking the motivation to \"complete\" the scavenger hunting and the rest of the single player trophies. (How in the world can there possibly be that many things still left to find??)\\n\\nI'm not a huge fan of the RTS style stage battles (I know Tim Schafer claims it is NOT an RTS, but..) I haven't yet played a multiplayer stage battle and I'm not real enthusiastic about doing so, and that is a BIG part of the replay value. You'll probably enjoy the game a lot more if you like the stage battles, but I'm not sure what type of player they are aimed at. For hardcore RTS players I'm sure it's really simplistic, and for those of us who just prefer to hack and slash, it starts to become a chore. You may enjoy them, but it didn't float my boat.\\n\\nOverall this is still one of the best games I've played all year.   \n",
       "1895                                                                                                                                                                                                                                                                                                                                                                                                                                                                                                                                                                                                                                                                                                                                                                                                                                                                                                                                                                                                                                                                                                                                                                                                                                                                                                                                                                                                                                                                                                                                                                                                                                                                                                                                                                                                                                                                                                                                                                                                                                                                                                                                                                                                                                                                                                                                                                                                                                                                                                                                                                                                                                                                                                                                    *CHESS MASTER - XBOX*\\n\\nLet me start by saying my family and I love chess. I've been patiently waiting for a chess game on the XBOX since the consoles release. Surely, Chess\"Master\" will be great, I mean you can't go wrong with chess right? WRONG! I suppose this game is fun if you're really into playing chess online or by yourself at home. However, I don't have an online account and if you want to play with a friend, at home on the same console, you'll be passing the controller back and forth. So much so, you'll wonder what the designers were thinking. Trust me, that gets old very quickly.\\n\\nI specifically purchased this game to sit down and play chess with my wife and kids. Can you imagine how upset we all were when we found out we had to pass the controller back and forth to each other for each move? Why not a 2 player/2 controller system? To me it just ruins the game! I don't have online play and playing the computer gets old...fast.\\n\\nIN FINAL: I'd like to say I love this game, I mean the graphics are good, the different chess sets are neat, the sound if fine, it's just no fun to have to reach over after every move and hand the controller to my opponent! WHAT WERE THEY THINKING?   \n",
       "1276                                                                                                                                                                                                                                                                                                                                                                                                                                                                                                                                                                                                                                                                                                                                                                                                                                                                                                                                                                                                                                                                                                                                                                                                                                                                                                                                                                                                                                                                                                                                                                                                                                                                                                                                                                                                                                                                                                                                                                                                                                                                                                                                                                                                                                                                                                                                                                                                                                                                                                                                                                                                                                                                                                                                                                                                                                                                                                                                                                                                                                                                                                         As other reviewers on here have stated,this game is exactly like NBA 2K14. All of the rosters have not even been updated. Lebron James is on the Cavs,but why in the hell is Kevin Love still on the Wolves? :/ Even the gameplay is the same as 2k14,if not worse. It's like 2K sports is MAKING US last gen console owners,purchase a PS4 or Xbox One,if we are not satisfied with this watered down overpriced pile of sh--! Overall,this game is a total waste of time and money. If you are wanting this game to go along with your other 2K titles,then I would recommend just waiting for the price of this lackluster insult to drop. I am sure that this game will drop in price very soon,so you should pick it up then,if you want it that bad. But whatever you decide to do,I would STRONGLY encourage you to NOT spend 60 bucks on this,cause it is NOT WORTH IT!   \n",
       "\n",
       "                                                                                                                                                                                                                                                                                                                                                                                                                                                                                                                                                                                                                                        casual_tokens  \\\n",
       "2632                  [let, me, preface, this, review, by, saying, that, i, am, not, a, huge, fan, of, metal, music, nor, of, jack, black, i, listened, to, some, ozzy, when, i, was, growing, up, and, i, think, jack, black, is, ok, but, those, werent, the, reasons, i, bought, this, game, in, fact, the, first, time, i, heard, about, this, game, i, had, zero, interest, in, it, however, playing, the, demo, reading, some, interviews, with, tim, schafer, and, seeing, some, of, the, art, behind, this, game, completely, changed, my, mind, the, pros, the, art, in, this, game, is, fantastic, the, world, the, character, design, ...]   \n",
       "1895  [chess, master, xbox, let, me, start, by, saying, my, family, and, i, love, chess, ive, been, patiently, waiting, for, a, chess, game, on, the, xbox, since, the, consoles, release, surely, chessmaster, will, be, great, i, mean, you, cant, go, wrong, with, chess, right, wrong, i, suppose, this, game, is, fun, if, youre, really, into, playing, chess, online, or, by, yourself, at, home, however, i, dont, have, an, online, account, and, if, you, want, to, play, with, a, friend, at, home, on, the, same, console, youll, be, passing, the, controller, back, and, forth, so, much, so, youll, wonder, what, the, designers, ...]   \n",
       "1276        [as, other, reviewers, on, here, have, statedthis, game, is, exactly, like, nba, 2k14, all, of, the, rosters, have, not, even, been, updated, lebron, james, is, on, the, cavsbut, why, in, the, hell, is, kevin, love, still, on, the, wolves, even, the, gameplay, is, the, same, as, 2k14if, not, worse, its, like, 2k, sports, is, making, us, last, gen, console, ownerspurchase, a, ps4, or, xbox, oneif, we, are, not, satisfied, with, this, watered, down, overpriced, pile, of, sh, overallthis, game, is, a, total, waste, of, time, and, money, if, you, are, wanting, this, game, to, go, along, with, your, other, 2k, ...]   \n",
       "\n",
       "                                                                                                                                                                                                                                                                                                                                                                                                                                                                                                                                                                                                                                            tb_tokens  \n",
       "2632                  [let, me, preface, this, review, by, saying, that, i, am, not, a, huge, fan, of, metal, music, nor, of, jack, black, i, listened, to, some, ozzy, when, i, was, growing, up, and, i, think, jack, black, is, ok, but, those, werent, the, reasons, i, bought, this, game, in, fact, the, first, time, i, heard, about, this, game, i, had, zero, interest, in, it, however, playing, the, demo, reading, some, interviews, with, tim, schafer, and, seeing, some, of, the, art, behind, this, game, completely, changed, my, mind, the, pros, the, art, in, this, game, is, fantastic, the, world, the, character, design, ...]  \n",
       "1895  [chess, master, xbox, let, me, start, by, saying, my, family, and, i, love, chess, ive, been, patiently, waiting, for, a, chess, game, on, the, xbox, since, the, consoles, release, surely, chessmaster, will, be, great, i, mean, you, cant, go, wrong, with, chess, right, wrong, i, suppose, this, game, is, fun, if, youre, really, into, playing, chess, online, or, by, yourself, at, home, however, i, dont, have, an, online, account, and, if, you, want, to, play, with, a, friend, at, home, on, the, same, console, youll, be, passing, the, controller, back, and, forth, so, much, so, youll, wonder, what, the, designers, ...]  \n",
       "1276        [as, other, reviewers, on, here, have, statedthis, game, is, exactly, like, nba, 2k14, all, of, the, rosters, have, not, even, been, updated, lebron, james, is, on, the, cavsbut, why, in, the, hell, is, kevin, love, still, on, the, wolves, even, the, gameplay, is, the, same, as, 2k14if, not, worse, its, like, 2k, sports, is, making, us, last, gen, console, ownerspurchase, a, ps4, or, xbox, oneif, we, are, not, satisfied, with, this, watered, down, overpriced, pile, of, sh, overallthis, game, is, a, total, waste, of, time, and, money, if, you, are, wanting, this, game, to, go, along, with, your, other, 2k, ...]  "
      ]
     },
     "execution_count": 21,
     "metadata": {},
     "output_type": "execute_result"
    }
   ],
   "source": [
    "reviews[['reviewText','casual_tokens','tb_tokens']].sample(3)"
   ]
  },
  {
   "cell_type": "markdown",
   "id": "680803a0",
   "metadata": {},
   "source": [
    "## Stemming\n"
   ]
  },
  {
   "cell_type": "code",
   "execution_count": 22,
   "id": "ad2b17bf",
   "metadata": {},
   "outputs": [],
   "source": [
    "from nltk.stem.porter import PorterStemmer\n"
   ]
  },
  {
   "cell_type": "code",
   "execution_count": 23,
   "id": "69eabb80",
   "metadata": {},
   "outputs": [],
   "source": [
    "stemmer = PorterStemmer()\n"
   ]
  },
  {
   "cell_type": "code",
   "execution_count": 24,
   "id": "8ba95c86",
   "metadata": {},
   "outputs": [],
   "source": [
    "reviews['tokens_stemmed'] = reviews['tb_tokens'].apply(lambda words: [stemmer.stem(w) for w in words])\n"
   ]
  },
  {
   "cell_type": "code",
   "execution_count": 25,
   "id": "8a381640",
   "metadata": {},
   "outputs": [
    {
     "data": {
      "text/html": [
       "<div>\n",
       "<style scoped>\n",
       "    .dataframe tbody tr th:only-of-type {\n",
       "        vertical-align: middle;\n",
       "    }\n",
       "\n",
       "    .dataframe tbody tr th {\n",
       "        vertical-align: top;\n",
       "    }\n",
       "\n",
       "    .dataframe thead th {\n",
       "        text-align: right;\n",
       "    }\n",
       "</style>\n",
       "<table border=\"1\" class=\"dataframe\">\n",
       "  <thead>\n",
       "    <tr style=\"text-align: right;\">\n",
       "      <th></th>\n",
       "      <th>tb_tokens</th>\n",
       "      <th>tokens_stemmed</th>\n",
       "    </tr>\n",
       "  </thead>\n",
       "  <tbody>\n",
       "    <tr>\n",
       "      <th>1705</th>\n",
       "      <td>[get, this, one, only, if, you, either, love, stealthbased, play, and, need, a, break, from, splinter, cellmetal, gear, or, are, looking, for, a, discount, item, movement, control, is, clunky, especially, since, you, have, to, use, the, the, look, command, in, specific, very, specific, onscreen, hotspots, to, perform, anything, but, the, most, basic, of, actions, has, some, serious, glitch, issues, as, well, eg, i, died, during, a, boss, fight, yet, the, cinematic, showing, the, boss, death, played, and, i, went, to, the, next, level, and, for, some, reason, the, only, way, to, walk, quietly, is, crouched, down, hunh, the, story, is, ...]</td>\n",
       "      <td>[get, thi, one, onli, if, you, either, love, stealthbas, play, and, need, a, break, from, splinter, cellmet, gear, or, are, look, for, a, discount, item, movement, control, is, clunki, especi, sinc, you, have, to, use, the, the, look, command, in, specif, veri, specif, onscreen, hotspot, to, perform, anyth, but, the, most, basic, of, action, ha, some, seriou, glitch, issu, as, well, eg, i, die, dure, a, boss, fight, yet, the, cinemat, show, the, boss, death, play, and, i, went, to, the, next, level, and, for, some, reason, the, onli, way, to, walk, quietli, is, crouch, down, hunh, the, stori, is, ...]</td>\n",
       "    </tr>\n",
       "    <tr>\n",
       "      <th>2911</th>\n",
       "      <td>[its, cool]</td>\n",
       "      <td>[it, cool]</td>\n",
       "    </tr>\n",
       "    <tr>\n",
       "      <th>3513</th>\n",
       "      <td>[tons, of, storage, space, loaded, up, over, a, dozen, games, and, not, even, filled, to, 25, capacity, so, happy, with, this, purchase]</td>\n",
       "      <td>[ton, of, storag, space, load, up, over, a, dozen, game, and, not, even, fill, to, 25, capac, so, happi, with, thi, purchas]</td>\n",
       "    </tr>\n",
       "  </tbody>\n",
       "</table>\n",
       "</div>"
      ],
      "text/plain": [
       "                                                                                                                                                                                                                                                                                                                                                                                                                                                                                                                                                                                                                                                                   tb_tokens  \\\n",
       "1705  [get, this, one, only, if, you, either, love, stealthbased, play, and, need, a, break, from, splinter, cellmetal, gear, or, are, looking, for, a, discount, item, movement, control, is, clunky, especially, since, you, have, to, use, the, the, look, command, in, specific, very, specific, onscreen, hotspots, to, perform, anything, but, the, most, basic, of, actions, has, some, serious, glitch, issues, as, well, eg, i, died, during, a, boss, fight, yet, the, cinematic, showing, the, boss, death, played, and, i, went, to, the, next, level, and, for, some, reason, the, only, way, to, walk, quietly, is, crouched, down, hunh, the, story, is, ...]   \n",
       "2911                                                                                                                                                                                                                                                                                                                                                                                                                                                                                                                                                                                                                                                             [its, cool]   \n",
       "3513                                                                                                                                                                                                                                                                                                                                                                                                                                                                                                                                [tons, of, storage, space, loaded, up, over, a, dozen, games, and, not, even, filled, to, 25, capacity, so, happy, with, this, purchase]   \n",
       "\n",
       "                                                                                                                                                                                                                                                                                                                                                                                                                                                                                                                                                                                                                        tokens_stemmed  \n",
       "1705  [get, thi, one, onli, if, you, either, love, stealthbas, play, and, need, a, break, from, splinter, cellmet, gear, or, are, look, for, a, discount, item, movement, control, is, clunki, especi, sinc, you, have, to, use, the, the, look, command, in, specif, veri, specif, onscreen, hotspot, to, perform, anyth, but, the, most, basic, of, action, ha, some, seriou, glitch, issu, as, well, eg, i, die, dure, a, boss, fight, yet, the, cinemat, show, the, boss, death, play, and, i, went, to, the, next, level, and, for, some, reason, the, onli, way, to, walk, quietli, is, crouch, down, hunh, the, stori, is, ...]  \n",
       "2911                                                                                                                                                                                                                                                                                                                                                                                                                                                                                                                                                                                                                        [it, cool]  \n",
       "3513                                                                                                                                                                                                                                                                                                                                                                                                                                                                                                      [ton, of, storag, space, load, up, over, a, dozen, game, and, not, even, fill, to, 25, capac, so, happi, with, thi, purchas]  "
      ]
     },
     "execution_count": 25,
     "metadata": {},
     "output_type": "execute_result"
    }
   ],
   "source": [
    "reviews[['tb_tokens','tokens_stemmed']].sample(3)\n"
   ]
  },
  {
   "cell_type": "markdown",
   "id": "6ca7e4fb",
   "metadata": {},
   "source": [
    "## Lemmatisation"
   ]
  },
  {
   "cell_type": "code",
   "execution_count": 26,
   "id": "157edcd3",
   "metadata": {},
   "outputs": [],
   "source": [
    "from nltk.stem import WordNetLemmatizer\n",
    "from nltk.corpus import wordnet as wn\n",
    "from nltk.corpus import sentiwordnet as swn\n",
    "from nltk import sent_tokenize, word_tokenize, pos_tag"
   ]
  },
  {
   "cell_type": "code",
   "execution_count": 27,
   "id": "3c0e360f",
   "metadata": {},
   "outputs": [],
   "source": [
    "def penn_to_wn(tag):\n",
    "    \"\"\"\n",
    "        Convert between the PennTreebank tags to simple Wordnet tags\n",
    "    \"\"\"\n",
    "    if tag.startswith('J'):\n",
    "        return wn.ADJ\n",
    "    elif tag.startswith('N'):\n",
    "        return wn.NOUN\n",
    "    elif tag.startswith('R'):\n",
    "        return wn.ADV\n",
    "    elif tag.startswith('V'):\n",
    "        return wn.VERB\n",
    "    return None\n"
   ]
  },
  {
   "cell_type": "code",
   "execution_count": 28,
   "id": "34d68722",
   "metadata": {},
   "outputs": [],
   "source": [
    "lemmatizer = WordNetLemmatizer()\n",
    "def get_lemas(tokens):\n",
    "    lemmas = []\n",
    "    for token in tokens:\n",
    "        pos = penn_to_wn(pos_tag([token])[0][1])\n",
    "        if pos:\n",
    "            lemma = lemmatizer.lemmatize(token, pos)\n",
    "            if lemma:\n",
    "                lemmas.append(lemma)\n",
    "    return lemmas"
   ]
  },
  {
   "cell_type": "code",
   "execution_count": 29,
   "id": "094f6f0e",
   "metadata": {},
   "outputs": [],
   "source": [
    "reviews['lemmas'] = reviews['tb_tokens'].apply(lambda tokens: get_lemas(tokens))\n"
   ]
  },
  {
   "cell_type": "code",
   "execution_count": 30,
   "id": "98be0460",
   "metadata": {},
   "outputs": [
    {
     "data": {
      "text/html": [
       "<div>\n",
       "<style scoped>\n",
       "    .dataframe tbody tr th:only-of-type {\n",
       "        vertical-align: middle;\n",
       "    }\n",
       "\n",
       "    .dataframe tbody tr th {\n",
       "        vertical-align: top;\n",
       "    }\n",
       "\n",
       "    .dataframe thead th {\n",
       "        text-align: right;\n",
       "    }\n",
       "</style>\n",
       "<table border=\"1\" class=\"dataframe\">\n",
       "  <thead>\n",
       "    <tr style=\"text-align: right;\">\n",
       "      <th></th>\n",
       "      <th>reviewText</th>\n",
       "      <th>tokens_stemmed</th>\n",
       "      <th>lemmas</th>\n",
       "    </tr>\n",
       "  </thead>\n",
       "  <tbody>\n",
       "    <tr>\n",
       "      <th>3277</th>\n",
       "      <td>I have to say, I had my doubts about this from what I had read, but I've been playing it, and it rules!  Obviously there isn't a huge amount of new stuff here, but the campaign is actually really solid and interesting; the Dark Eldar and Sisters are both really exciting to fight against, at least, and are totally new.  I'm not a hardcore RTS strategist and mainly play the game for the atmosphere and polish, and those are both really great here.  The visual and thematic elements are great, and this campaign easily equals or even exceeds Dark Crusade's.  Too bad Iron Lore is dead :(  Hopefully warhammer stays this good!</td>\n",
       "      <td>[i, have, to, say, i, had, my, doubt, about, thi, from, what, i, had, read, but, ive, been, play, it, and, it, rule, obvious, there, isnt, a, huge, amount, of, new, stuff, here, but, the, campaign, is, actual, realli, solid, and, interest, the, dark, eldar, and, sister, are, both, realli, excit, to, fight, against, at, least, and, are, total, new, im, not, a, hardcor, rt, strategist, and, mainli, play, the, game, for, the, atmospher, and, polish, and, those, are, both, realli, great, here, the, visual, and, themat, element, are, great, and, thi, campaign, easili, equal, or, even, exce, dark, crusad, ...]</td>\n",
       "      <td>[i, have, say, i, have, doubt, i, have, read, ive, be, play, rule, obviously, there, isnt, huge, amount, new, stuff, here, campaign, be, actually, really, solid, interest, dark, eldar, sister, be, really, excite, fight, least, be, totally, new, im, not, hardcore, rts, strategist, mainly, play, game, atmosphere, polish, be, really, great, here, visual, thematic, element, be, great, campaign, easily, equal, even, exceeds, dark, crusade, too, bad, iron, lore, be, dead, hopefully, warhammer, stay, good]</td>\n",
       "    </tr>\n",
       "    <tr>\n",
       "      <th>301</th>\n",
       "      <td>First of all, if you don't have access to internet and/or ability to download 8GB patch don't even bother buying this title because whatever Ubisoft shipped on the disc is borderline unplayable !!!\\n\\nBesides that this is the worst Creed game I've played so far, runs like crap on PS4. Prolong framerate issues during gameplay, and cut scenes. Multitude glitches, npcs are rendered 3 feet in front of you, game has really hard time figuring out what sex or clothes they should be. Story line is really short and the rest of the game is padded with chests opening mechanic. There is a free DLC which was a part of \"We are really sorry for shipping unfinished game\" but I can't force myself to play it because of all the technical issues and abysmal performance.</td>\n",
       "      <td>[first, of, all, if, you, dont, have, access, to, internet, andor, abil, to, download, 8gb, patch, dont, even, bother, buy, thi, titl, becaus, whatev, ubisoft, ship, on, the, disc, is, borderlin, unplay, besid, that, thi, is, the, worst, creed, game, ive, play, so, far, run, like, crap, on, ps4, prolong, framer, issu, dure, gameplay, and, cut, scene, multitud, glitch, npc, are, render, 3, feet, in, front, of, you, game, ha, realli, hard, time, figur, out, what, sex, or, cloth, they, should, be, stori, line, is, realli, short, and, the, rest, of, the, game, is, pad, with, chest, open, mechan, there, ...]</td>\n",
       "      <td>[first, dont, have, access, internet, andor, ability, download, patch, dont, even, bother, buying, title, ubisoft, ship, disc, be, borderline, unplayable, be, bad, creed, game, ive, played, so, far, run, crap, ps4, prolong, framerate, issue, gameplay, cut, scene, multitude, glitch, npc, be, render, foot, front, game, have, really, hard, time, figure, sex, clothes, be, story, line, be, really, short, rest, game, be, pad, chest, opening, mechanic, there, be, free, dlc, be, part, be, really, sorry, shipping, unfinished, game, i, cant, force, play, technical, issue, abysmal, performance]</td>\n",
       "    </tr>\n",
       "  </tbody>\n",
       "</table>\n",
       "</div>"
      ],
      "text/plain": [
       "                                                                                                                                                                                                                                                                                                                                                                                                                                                                                                                                                                                                                                                                                                                                                                                    reviewText  \\\n",
       "3277                                                                                                                                         I have to say, I had my doubts about this from what I had read, but I've been playing it, and it rules!  Obviously there isn't a huge amount of new stuff here, but the campaign is actually really solid and interesting; the Dark Eldar and Sisters are both really exciting to fight against, at least, and are totally new.  I'm not a hardcore RTS strategist and mainly play the game for the atmosphere and polish, and those are both really great here.  The visual and thematic elements are great, and this campaign easily equals or even exceeds Dark Crusade's.  Too bad Iron Lore is dead :(  Hopefully warhammer stays this good!   \n",
       "301   First of all, if you don't have access to internet and/or ability to download 8GB patch don't even bother buying this title because whatever Ubisoft shipped on the disc is borderline unplayable !!!\\n\\nBesides that this is the worst Creed game I've played so far, runs like crap on PS4. Prolong framerate issues during gameplay, and cut scenes. Multitude glitches, npcs are rendered 3 feet in front of you, game has really hard time figuring out what sex or clothes they should be. Story line is really short and the rest of the game is padded with chests opening mechanic. There is a free DLC which was a part of \"We are really sorry for shipping unfinished game\" but I can't force myself to play it because of all the technical issues and abysmal performance.   \n",
       "\n",
       "                                                                                                                                                                                                                                                                                                                                                                                                                                                                                                                                                                                                                           tokens_stemmed  \\\n",
       "3277  [i, have, to, say, i, had, my, doubt, about, thi, from, what, i, had, read, but, ive, been, play, it, and, it, rule, obvious, there, isnt, a, huge, amount, of, new, stuff, here, but, the, campaign, is, actual, realli, solid, and, interest, the, dark, eldar, and, sister, are, both, realli, excit, to, fight, against, at, least, and, are, total, new, im, not, a, hardcor, rt, strategist, and, mainli, play, the, game, for, the, atmospher, and, polish, and, those, are, both, realli, great, here, the, visual, and, themat, element, are, great, and, thi, campaign, easili, equal, or, even, exce, dark, crusad, ...]   \n",
       "301    [first, of, all, if, you, dont, have, access, to, internet, andor, abil, to, download, 8gb, patch, dont, even, bother, buy, thi, titl, becaus, whatev, ubisoft, ship, on, the, disc, is, borderlin, unplay, besid, that, thi, is, the, worst, creed, game, ive, play, so, far, run, like, crap, on, ps4, prolong, framer, issu, dure, gameplay, and, cut, scene, multitud, glitch, npc, are, render, 3, feet, in, front, of, you, game, ha, realli, hard, time, figur, out, what, sex, or, cloth, they, should, be, stori, line, is, realli, short, and, the, rest, of, the, game, is, pad, with, chest, open, mechan, there, ...]   \n",
       "\n",
       "                                                                                                                                                                                                                                                                                                                                                                                                                                                                                                                                                                                                              lemmas  \n",
       "3277                                                                                        [i, have, say, i, have, doubt, i, have, read, ive, be, play, rule, obviously, there, isnt, huge, amount, new, stuff, here, campaign, be, actually, really, solid, interest, dark, eldar, sister, be, really, excite, fight, least, be, totally, new, im, not, hardcore, rts, strategist, mainly, play, game, atmosphere, polish, be, really, great, here, visual, thematic, element, be, great, campaign, easily, equal, even, exceeds, dark, crusade, too, bad, iron, lore, be, dead, hopefully, warhammer, stay, good]  \n",
       "301   [first, dont, have, access, internet, andor, ability, download, patch, dont, even, bother, buying, title, ubisoft, ship, disc, be, borderline, unplayable, be, bad, creed, game, ive, played, so, far, run, crap, ps4, prolong, framerate, issue, gameplay, cut, scene, multitude, glitch, npc, be, render, foot, front, game, have, really, hard, time, figure, sex, clothes, be, story, line, be, really, short, rest, game, be, pad, chest, opening, mechanic, there, be, free, dlc, be, part, be, really, sorry, shipping, unfinished, game, i, cant, force, play, technical, issue, abysmal, performance]  "
      ]
     },
     "execution_count": 30,
     "metadata": {},
     "output_type": "execute_result"
    }
   ],
   "source": [
    "reviews[['reviewText','tokens_stemmed','lemmas']].sample(2)\n"
   ]
  },
  {
   "cell_type": "markdown",
   "id": "f8190227",
   "metadata": {},
   "source": [
    "## Sentiment Predictor Baseline Model"
   ]
  },
  {
   "cell_type": "code",
   "execution_count": 31,
   "id": "47397c0c",
   "metadata": {},
   "outputs": [],
   "source": [
    "def get_sentiment_score(tokens):\n",
    "    score = 0\n",
    "    tags = pos_tag(tokens)\n",
    "    for word, tag in tags:\n",
    "        wn_tag = penn_to_wn(tag)\n",
    "        if not wn_tag:\n",
    "            continue\n",
    "        synsets = wn.synsets(word, pos=wn_tag)\n",
    "        if not synsets:\n",
    "            continue\n",
    "        \n",
    "        #most common set:\n",
    "        synset = synsets[0]\n",
    "        swn_synset = swn.senti_synset(synset.name())\n",
    "        \n",
    "        score += (swn_synset.pos_score() - swn_synset.neg_score())\n",
    "        \n",
    "    return score\n",
    "                    "
   ]
  },
  {
   "cell_type": "code",
   "execution_count": 32,
   "id": "ebd8a726",
   "metadata": {},
   "outputs": [
    {
     "data": {
      "text/plain": [
       "0.625"
      ]
     },
     "execution_count": 32,
     "metadata": {},
     "output_type": "execute_result"
    }
   ],
   "source": [
    "## test\n",
    "swn.senti_synset(wn.synsets(\"perfect\", wn.ADJ)[0].name()).pos_score()\n"
   ]
  },
  {
   "cell_type": "code",
   "execution_count": 33,
   "id": "bcedfb3c",
   "metadata": {},
   "outputs": [],
   "source": [
    "reviews['sentiment_score'] = reviews['lemmas'].apply(lambda tokens: get_sentiment_score(tokens))\n"
   ]
  },
  {
   "cell_type": "code",
   "execution_count": 35,
   "id": "373582b0",
   "metadata": {},
   "outputs": [
    {
     "data": {
      "text/html": [
       "<div>\n",
       "<style scoped>\n",
       "    .dataframe tbody tr th:only-of-type {\n",
       "        vertical-align: middle;\n",
       "    }\n",
       "\n",
       "    .dataframe tbody tr th {\n",
       "        vertical-align: top;\n",
       "    }\n",
       "\n",
       "    .dataframe thead th {\n",
       "        text-align: right;\n",
       "    }\n",
       "</style>\n",
       "<table border=\"1\" class=\"dataframe\">\n",
       "  <thead>\n",
       "    <tr style=\"text-align: right;\">\n",
       "      <th></th>\n",
       "      <th>reviewText</th>\n",
       "      <th>lemmas</th>\n",
       "      <th>sentiment_score</th>\n",
       "    </tr>\n",
       "  </thead>\n",
       "  <tbody>\n",
       "    <tr>\n",
       "      <th>4237</th>\n",
       "      <td>Great item</td>\n",
       "      <td>[great, item]</td>\n",
       "      <td>0.000</td>\n",
       "    </tr>\n",
       "    <tr>\n",
       "      <th>4085</th>\n",
       "      <td>For a long time, I had wondered when the X-Box 360 would come up with a good RPG for the system.  I have to say I was disappointed in the previous games like Blue Dragon and Eternal Sonata.  I was even hesitant about getting this game because I didn't care much about Tales of Symphonia.  However, I decided to take the chance, and was well rewarded.\\n\\nThe one thing I have always considered a good RPG to have is storyline.  I believe Namco fulfilled this.  The story is engrosing from beginning to end.  I really wanted to turn to the next page of the story and learn all the secrets.  There were even a few good twists that helped strengthen it.\\n\\nHowever, the best part of the game is the characterization involved.  What I especially liked was that everyone was \"human\".  Even Yuri who is the main character is no knight in shining armor who obeys the rules (he's just your average guy throughout the story).  I also enjoyed the small skits throughout the game.  Though only talking portraits, they were fun to watch and you really got a sense of the bond everyone shared.\\n\\nThe animation is not the best X-box 360 can do, but for the purposes of telling this tale, Namco did well.  The animation shown as a type of anime style.  Though it doesn't push the bounds, the detail involved is still good, and you can clearly see the expressions on the characters clearly.\\n\\nIn terms of gameplay, the game is great.  I never got tired of the battle sequences.  You can use anywhere between 1 to 8 special moves that can easily be executed by pushing a arrow key and the special attack button.  To further describe the combat sequences, it is similar to Star Ocean 3 or Star Ocean 2, only more flexible and easier to use.  You also have the ability to change weapons or special moves during battle.  This is especially helpful against the various monsters.  Not all weapons can damage certain enemies.\\n\\nOverall, this game really set the bar high for future RPGs.  Good story, excellent characterization, and flexible gameplay you can taylor.  This game is worth it.</td>\n",
       "      <td>[long, time, i, have, wonder, xbox, come, up, good, rpg, system, i, have, say, i, be, disappointed, previous, game, blue, dragon, eternal, sonata, i, be, even, hesitant, get, game, i, didnt, care, much, tale, symphonia, however, i, decide, take, chance, be, well, reward, thing, i, have, always, consider, good, rpg, have, be, storyline, i, believe, namco, fulfil, story, be, engrosing, begin, end, i, really, want, turn, next, page, story, learn, secret, there, be, even, few, good, twist, help, strengthen, however, best, part, game, be, characterization, involve, i, especially, like, be, everyone, be, human, even, yuri, be, main, character, be, knight, ...]</td>\n",
       "      <td>13.500</td>\n",
       "    </tr>\n",
       "    <tr>\n",
       "      <th>1564</th>\n",
       "      <td>So Blizzard has made more money off World Of Warcraft than any game in history and the former Diablo II team members who did not move over to work on World of Warcraft left to form ArenaNet and make Guild Wars (an excellent series of game I might add), pretty much the rest of that team later left Blizzard to form Flagship Studios and to make their vision of what Diablo 3 should have been and that game is Hellgate: London.\\n\\nSo how is it? If you liked Diablo 2, it won't take much, the controls will take some getting use to, but the concepts and even a lot of the UI look from Diablo II has carried over here. This is all good, except that the genre has really innovated beyond Diablo 2. Since it appears Diablo 2 will never get a real successor, I would say Guild Wars which came out in 2005 (still alive and relevant today through an expansion and new campaigns) is as good as you can get and it really improved upon several of Diablo's flaws.\\n\\nHellgate feels a lot like Diablo 2, but it also feels dated. The graphics  just a touch sub-par for their system requirements I would say and overall there's just a feeling that the game was rushed. It feels like you're playing a beta product. The voice overs often seem misplaced and plan bad. The map has no compass and reviewing your quest log is a bit of a hassle. The control is tight, but you can be running fine at 60fps and get mobbed my enemies and drop down to 10fps. The problem I have against Hellgate is a collection of little things that add up to make it overall far short of the fantastic title it could have been.\\n\\nYou would think at least they got the multi-player part right, but they did not.. and they want to charge for a guild and basic multi-player ideas that are available free in other games.\\n\\nHaving said that, if you skip newer games like Guild Wars and go from into Hellgate from (the now very old) Diablo 2, you probably won't realize what all you're missing and may enjoy it a great deal more than I have so far.\\n\\nOverall not recommended.</td>\n",
       "      <td>[so, blizzard, have, make, more, money, world, warcraft, game, history, former, diablo, ii, team, member, do, not, move, work, world, warcraft, left, form, arenanet, make, guild, war, excellent, series, game, i, add, pretty, much, rest, team, later, left, blizzard, form, flagship, studio, make, vision, diablo, have, be, game, be, hellgate, london, so, be, like, diablo, wont, take, much, control, take, get, use, concept, even, lot, ui, look, diablo, ii, have, carry, here, be, good, genre, have, really, innovate, diablo, appear, diablo, never, get, real, successor, i, say, guild, war, come, still, alive, relevant, today, expansion, new, campaign, be, good, get, ...]</td>\n",
       "      <td>5.750</td>\n",
       "    </tr>\n",
       "    <tr>\n",
       "      <th>884</th>\n",
       "      <td>Just what the industry needed, another over-hyped flop.</td>\n",
       "      <td>[just, industry, need, overhyped, flop]</td>\n",
       "      <td>0.125</td>\n",
       "    </tr>\n",
       "    <tr>\n",
       "      <th>3005</th>\n",
       "      <td>One of the best games I have!  I only found one bad thing...and that's slowdown, only when there's computer opponents on the screen.  Other than that, it's fast.  Graphics are the best yet.  Fun game!  Must have even if your not into snowboarding.  Go get it now!</td>\n",
       "      <td>[best, game, i, have, i, only, found, bad, thingand, thats, slowdown, only, there, computer, opponent, screen, other, fast, graphic, be, best, yet, fun, game, have, even, not, snowboard, go, get, now]</td>\n",
       "      <td>0.625</td>\n",
       "    </tr>\n",
       "  </tbody>\n",
       "</table>\n",
       "</div>"
      ],
      "text/plain": [
       "                                                                                                                                                                                                                                                                                                                                                                                                                                                                                                                                                                                                                                                                                                                                                                                                                                                                                                                                                                                                                                                                                                                                                                                                                                                                                                                                                                                                                                                                                                                                                                                                                                                                                                                                                                                                                                                                                                                                                                                                                                                                                                                                                 reviewText  \\\n",
       "4237                                                                                                                                                                                                                                                                                                                                                                                                                                                                                                                                                                                                                                                                                                                                                                                                                                                                                                                                                                                                                                                                                                                                                                                                                                                                                                                                                                                                                                                                                                                                                                                                                                                                                                                                                                                                                                                                                                                                                                                                                                                                                                                                             Great item   \n",
       "4085  For a long time, I had wondered when the X-Box 360 would come up with a good RPG for the system.  I have to say I was disappointed in the previous games like Blue Dragon and Eternal Sonata.  I was even hesitant about getting this game because I didn't care much about Tales of Symphonia.  However, I decided to take the chance, and was well rewarded.\\n\\nThe one thing I have always considered a good RPG to have is storyline.  I believe Namco fulfilled this.  The story is engrosing from beginning to end.  I really wanted to turn to the next page of the story and learn all the secrets.  There were even a few good twists that helped strengthen it.\\n\\nHowever, the best part of the game is the characterization involved.  What I especially liked was that everyone was \"human\".  Even Yuri who is the main character is no knight in shining armor who obeys the rules (he's just your average guy throughout the story).  I also enjoyed the small skits throughout the game.  Though only talking portraits, they were fun to watch and you really got a sense of the bond everyone shared.\\n\\nThe animation is not the best X-box 360 can do, but for the purposes of telling this tale, Namco did well.  The animation shown as a type of anime style.  Though it doesn't push the bounds, the detail involved is still good, and you can clearly see the expressions on the characters clearly.\\n\\nIn terms of gameplay, the game is great.  I never got tired of the battle sequences.  You can use anywhere between 1 to 8 special moves that can easily be executed by pushing a arrow key and the special attack button.  To further describe the combat sequences, it is similar to Star Ocean 3 or Star Ocean 2, only more flexible and easier to use.  You also have the ability to change weapons or special moves during battle.  This is especially helpful against the various monsters.  Not all weapons can damage certain enemies.\\n\\nOverall, this game really set the bar high for future RPGs.  Good story, excellent characterization, and flexible gameplay you can taylor.  This game is worth it.   \n",
       "1564                                          So Blizzard has made more money off World Of Warcraft than any game in history and the former Diablo II team members who did not move over to work on World of Warcraft left to form ArenaNet and make Guild Wars (an excellent series of game I might add), pretty much the rest of that team later left Blizzard to form Flagship Studios and to make their vision of what Diablo 3 should have been and that game is Hellgate: London.\\n\\nSo how is it? If you liked Diablo 2, it won't take much, the controls will take some getting use to, but the concepts and even a lot of the UI look from Diablo II has carried over here. This is all good, except that the genre has really innovated beyond Diablo 2. Since it appears Diablo 2 will never get a real successor, I would say Guild Wars which came out in 2005 (still alive and relevant today through an expansion and new campaigns) is as good as you can get and it really improved upon several of Diablo's flaws.\\n\\nHellgate feels a lot like Diablo 2, but it also feels dated. The graphics  just a touch sub-par for their system requirements I would say and overall there's just a feeling that the game was rushed. It feels like you're playing a beta product. The voice overs often seem misplaced and plan bad. The map has no compass and reviewing your quest log is a bit of a hassle. The control is tight, but you can be running fine at 60fps and get mobbed my enemies and drop down to 10fps. The problem I have against Hellgate is a collection of little things that add up to make it overall far short of the fantastic title it could have been.\\n\\nYou would think at least they got the multi-player part right, but they did not.. and they want to charge for a guild and basic multi-player ideas that are available free in other games.\\n\\nHaving said that, if you skip newer games like Guild Wars and go from into Hellgate from (the now very old) Diablo 2, you probably won't realize what all you're missing and may enjoy it a great deal more than I have so far.\\n\\nOverall not recommended.   \n",
       "884                                                                                                                                                                                                                                                                                                                                                                                                                                                                                                                                                                                                                                                                                                                                                                                                                                                                                                                                                                                                                                                                                                                                                                                                                                                                                                                                                                                                                                                                                                                                                                                                                                                                                                                                                                                                                                                                                                                                                                                                                                                                                                 Just what the industry needed, another over-hyped flop.   \n",
       "3005                                                                                                                                                                                                                                                                                                                                                                                                                                                                                                                                                                                                                                                                                                                                                                                                                                                                                                                                                                                                                                                                                                                                                                                                                                                                                                                                                                                                                                                                                                                                                                                                                                                                                                                                                                                                                                                                                One of the best games I have!  I only found one bad thing...and that's slowdown, only when there's computer opponents on the screen.  Other than that, it's fast.  Graphics are the best yet.  Fun game!  Must have even if your not into snowboarding.  Go get it now!   \n",
       "\n",
       "                                                                                                                                                                                                                                                                                                                                                                                                                                                                                                                                                                                                                                                                                                lemmas  \\\n",
       "4237                                                                                                                                                                                                                                                                                                                                                                                                                                                                                                                                                                                                                                                                                     [great, item]   \n",
       "4085            [long, time, i, have, wonder, xbox, come, up, good, rpg, system, i, have, say, i, be, disappointed, previous, game, blue, dragon, eternal, sonata, i, be, even, hesitant, get, game, i, didnt, care, much, tale, symphonia, however, i, decide, take, chance, be, well, reward, thing, i, have, always, consider, good, rpg, have, be, storyline, i, believe, namco, fulfil, story, be, engrosing, begin, end, i, really, want, turn, next, page, story, learn, secret, there, be, even, few, good, twist, help, strengthen, however, best, part, game, be, characterization, involve, i, especially, like, be, everyone, be, human, even, yuri, be, main, character, be, knight, ...]   \n",
       "1564  [so, blizzard, have, make, more, money, world, warcraft, game, history, former, diablo, ii, team, member, do, not, move, work, world, warcraft, left, form, arenanet, make, guild, war, excellent, series, game, i, add, pretty, much, rest, team, later, left, blizzard, form, flagship, studio, make, vision, diablo, have, be, game, be, hellgate, london, so, be, like, diablo, wont, take, much, control, take, get, use, concept, even, lot, ui, look, diablo, ii, have, carry, here, be, good, genre, have, really, innovate, diablo, appear, diablo, never, get, real, successor, i, say, guild, war, come, still, alive, relevant, today, expansion, new, campaign, be, good, get, ...]   \n",
       "884                                                                                                                                                                                                                                                                                                                                                                                                                                                                                                                                                                                                                                                            [just, industry, need, overhyped, flop]   \n",
       "3005                                                                                                                                                                                                                                                                                                                                                                                                                                                                                          [best, game, i, have, i, only, found, bad, thingand, thats, slowdown, only, there, computer, opponent, screen, other, fast, graphic, be, best, yet, fun, game, have, even, not, snowboard, go, get, now]   \n",
       "\n",
       "      sentiment_score  \n",
       "4237            0.000  \n",
       "4085           13.500  \n",
       "1564            5.750  \n",
       "884             0.125  \n",
       "3005            0.625  "
      ]
     },
     "execution_count": 35,
     "metadata": {},
     "output_type": "execute_result"
    }
   ],
   "source": [
    "reviews[['reviewText','lemmas','sentiment_score']].sample(5)\n"
   ]
  },
  {
   "cell_type": "code",
   "execution_count": null,
   "id": "c1af9c40",
   "metadata": {},
   "outputs": [],
   "source": []
  }
 ],
 "metadata": {
  "kernelspec": {
   "display_name": "Python 3 (ipykernel)",
   "language": "python",
   "name": "python3"
  },
  "language_info": {
   "codemirror_mode": {
    "name": "ipython",
    "version": 3
   },
   "file_extension": ".py",
   "mimetype": "text/x-python",
   "name": "python",
   "nbconvert_exporter": "python",
   "pygments_lexer": "ipython3",
   "version": "3.9.13"
  }
 },
 "nbformat": 4,
 "nbformat_minor": 5
}
